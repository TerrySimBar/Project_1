{
 "cells": [
  {
   "cell_type": "markdown",
   "metadata": {},
   "source": [
    "## Setup dependencies"
   ]
  },
  {
   "cell_type": "code",
   "execution_count": 4,
   "metadata": {},
   "outputs": [],
   "source": [
    "# Dependencies and Setup\n",
    "import pandas as pd\n",
    "import numpy as np\n",
    "\n",
    "# For API requests\n",
    "import requests\n",
    "import json\n",
    "\n",
    "#For managing API keys\n",
    "from api_keys import  yelp_api_key\n",
    "\n",
    "# For handling files as csv\n",
    "import os\n",
    "import shutil"
   ]
  },
  {
   "cell_type": "markdown",
   "metadata": {},
   "source": [
    "## Task 1: Make Yelp API calls and export data as csv files to designated \"Resources\" folder"
   ]
  },
  {
   "cell_type": "markdown",
   "metadata": {},
   "source": [
    "#### Fetch the grocery data from the Yelp API"
   ]
  },
  {
   "cell_type": "code",
   "execution_count": null,
   "metadata": {},
   "outputs": [],
   "source": [
    "# Set up the API request for groceries\n",
    "base_url = \"https://api.yelp.com/v3/businesses/search\"\n",
    "cities = [\"Manhattan\", \"Queens\", \"Brooklyn\"]\n",
    "results_per_page = 20\n",
    "grocery_data_list = []  \n",
    "\n",
    "# Use a for loop to make the API call\n",
    "for city in cities:\n",
    "    offset = 0\n",
    "    while True:\n",
    "        params = {\n",
    "            \"term\": \"grocery\",\n",
    "            \"location\": city,\n",
    "            \"offset\": offset,\n",
    "            \"limit\": results_per_page\n",
    "        }\n",
    "        headers = {\n",
    "            \"Authorization\": f\"Bearer {api_key}\"\n",
    "        }\n",
    "        response = requests.get(base_url, params=params, headers=headers)\n",
    "        \n",
    "        # Use JSON to get the response data \n",
    "        api_response = response.json()  \n",
    "\n",
    "        businesses = api_response.get(\"businesses\", [])\n",
    "        if not businesses:\n",
    "            break\n",
    "        for business in businesses:\n",
    "            data = {\n",
    "                \"City\": city,\n",
    "                \"Name\": business[\"name\"],\n",
    "                \"Address\": business[\"location\"][\"address1\"]\n",
    "            }\n",
    "            # Append the data to the list\n",
    "            grocery_data_list.append(data)\n",
    "            \n",
    "        offset += results_per_page\n",
    "\n",
    "# Create a DataFrame from the collected data\n",
    "grocery_df = pd.DataFrame(grocery_data_list)\n",
    "\n",
    "# Save the DataFrame to a CSV file\n",
    "grocery_df.to_csv(\"grocery.csv\", index=False)"
   ]
  },
  {
   "cell_type": "markdown",
   "metadata": {},
   "source": [
    "#### Fetch the lounge data from the Yelp API"
   ]
  },
  {
   "cell_type": "code",
   "execution_count": null,
   "metadata": {},
   "outputs": [],
   "source": [
    "# Set up the API request for lounges\n",
    "base_url = \"https://api.yelp.com/v3/businesses/search\"\n",
    "cities = [\"Manhattan\", \"Queens\", \"Brooklyn\"]\n",
    "results_per_page = 20\n",
    "lounge_data_list = []  \n",
    "\n",
    "# Use a for loop to make the API call\n",
    "for city in cities:\n",
    "    offset = 0\n",
    "    while True:\n",
    "        params = {\n",
    "            \"term\": \"lounges\",\n",
    "            \"location\": city,\n",
    "            \"offset\": offset,\n",
    "            \"limit\": results_per_page\n",
    "        }\n",
    "        headers = {\n",
    "            \"Authorization\": f\"Bearer {api_key}\"\n",
    "        }\n",
    "        response = requests.get(base_url, params=params, headers=headers)\n",
    "        \n",
    "        # Use JSON to get the response data \n",
    "        api_response = response.json() \n",
    "\n",
    "        businesses = api_response.get(\"businesses\", [])\n",
    "        if not businesses:\n",
    "            break\n",
    "        for business in businesses:\n",
    "            data = {\n",
    "                \"City\": city,\n",
    "                \"Name\": business[\"name\"],\n",
    "                \"Address\": business[\"location\"][\"address1\"]\n",
    "            }\n",
    "            \n",
    "            # Append the data to the list\n",
    "            lounge_data_list.append(data)\n",
    "            \n",
    "        offset += results_per_page\n",
    "\n",
    "# Create a DataFrame from the collected data\n",
    "lounge_df = pd.DataFrame(lounge_data_list)\n",
    "\n",
    "# Save the DataFrame to a CSV file\n",
    "lounge_df.to_csv(\"lounge.csv\", index=False)"
   ]
  },
  {
   "cell_type": "markdown",
   "metadata": {},
   "source": [
    "## Move all the exported csv files with the Yelp reponses to a folder named \"Resources\""
   ]
  },
  {
   "cell_type": "code",
   "execution_count": null,
   "metadata": {},
   "outputs": [],
   "source": [
    "# Source directory containing CSV files\n",
    "source_directory = os.path.abspath(\"..//\")\n",
    "\n",
    "# Destination directory (newly created folder) where CSV files will be moved\n",
    "destination_directory = os.path.abspath(\"../Resources/\")\n",
    "\n",
    "# Create the destination directory if it doesn't exist\n",
    "if not os.path.exists(destination_directory):\n",
    "    os.makedirs(destination_directory)\n",
    "\n",
    "# List of filenames (CSV files) to move\n",
    "csv_files = [\"lounge.csv\", \"grocery.csv\", \"EVCS.csv\"]\n",
    "\n",
    "# Loop through the list of filenames and move each CSV file\n",
    "for file in csv_files:\n",
    "    source_file_path = os.path.join(source_directory, file)\n",
    "    destination_file_path = os.path.join(destination_directory, file)\n",
    "    shutil.move(source_file_path, destination_file_path)"
   ]
  },
  {
   "cell_type": "markdown",
   "metadata": {},
   "source": [
    "## Fetch the NYS EV charging stations csv file and store it in the \"Resources\" folder "
   ]
  },
  {
   "cell_type": "code",
   "execution_count": null,
   "metadata": {},
   "outputs": [],
   "source": [
    "# URL of the EV CSV file\n",
    "csv_url = \"https://data.ny.gov/resource/7rrd-248n.csv\"\n",
    "\n",
    "# Folder to save the CSV file\n",
    "destination_folder = \"../Resources/\"\n",
    "\n",
    "# Name for the CSV file\n",
    "filename = \"EVCS.csv\"\n",
    "# Path to save the CSV file\n",
    "csv_path = os.path.join(destination_folder, filename)\n",
    "\n",
    "# Download the CSV file using requests\n",
    "response = requests.get(csv_url, stream=True)\n",
    "if response.status_code == 200:\n",
    "    with open(csv_path, \"wb\") as file:\n",
    "        response.raw.decode_content = True\n",
    "        shutil.copyfileobj(response.raw, file)\n",
    "    print(f\"CSV file '{filename}' downloaded and saved in '{destination_folder}'\")\n",
    "else:\n",
    "    print(\"Failed to download CSV file\")"
   ]
  }
 ],
 "metadata": {
  "kernelspec": {
   "display_name": "yourenvname",
   "language": "python",
   "name": "python3"
  },
  "language_info": {
   "codemirror_mode": {
    "name": "ipython",
    "version": 3
   },
   "file_extension": ".py",
   "mimetype": "text/x-python",
   "name": "python",
   "nbconvert_exporter": "python",
   "pygments_lexer": "ipython3",
   "version": "3.10.12"
  },
  "orig_nbformat": 4
 },
 "nbformat": 4,
 "nbformat_minor": 2
}
