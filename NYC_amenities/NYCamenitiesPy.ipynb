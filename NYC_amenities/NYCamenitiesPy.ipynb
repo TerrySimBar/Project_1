{
 "cells": [
  {
   "cell_type": "markdown",
   "metadata": {},
   "source": [
    "NYC Amenities Analysis\n",
    "\n",
    "This report includes:\n",
    "\n",
    "- A summary of the analysis performed\n",
    "\n",
    "- Discussion about each visualization\n",
    "\n",
    "- Conclusion\n",
    "\n",
    "- Recommendations for further investigations\n",
    "\n",
    "\n",
    "### Summary\n",
    "\n",
    "This project explored three preferences outlined by a group of 500 international delegates who would be working on a 2-year project in New York City. The group prioritized amenities: entertainment lounges, electric vehicle (EV) charging stations, and grocery shopping, of equal importance. The group also named Manhattan, Queens and Brooklyn as the boroughs that they prefer to live in for the duration of the project. We used grocery and lounge data from Yelp API calls as well as EV data from a New York State government website. This analysis seeks to gain preliminary insights about which NYC borough has the most offerings of amenities for the delegation. \n",
    "\n",
    "##### Metrics and Indicators:\n",
    "The key metrics and performance indicators that have been analyzed in this project includes:\n",
    "\n",
    "- The total number of all the named amenities in the three boroughs\n",
    "\n",
    "- The counts of EV charging stations, lounges, and grocery stores in each borough\n",
    "\n",
    "- The individual boroughs with the most of each amenity\n",
    "\n",
    "- The borough that has the most amenities combined\n",
    "\n",
    "- A map visualization of the combined borough counts \n",
    "\n",
    "\n",
    "##### Methodology:\n",
    "The methodology includes:\n",
    "\n",
    "- Descriptive statistics: Calculating, sum and other summary statistics.\n",
    "\n",
    "- Comparative analysis: Comparing number of amenities in each borough.\n",
    "\n",
    "- Data visualization: Map illustration of boroughs with combined amenities. \n",
    "\n",
    "\n",
    "### Discussion:\n",
    "- Three dataframes were made from three csv files containing data for grocery stores, EV charging stations. and lounges in New York City. The dataframes were wrangled and cleaned to have only data for Brooklyn, Manhattan, and Queens; and with four columns:' City', 'Name' (of Business), 'Address', and 'Type' (amenity). The dataframes were then concatenated to create one dataframe. \n",
    "\n",
    "- Manhattan was found to have 102 EV charging stations, four times more than Brooklyn with 25, and more than ten times Queens with only 7. \n",
    "\n",
    "- Manhattan and Queens were both found to have 999 lounges, while Brooklyn had 919. \n",
    "\n",
    "- Queens was found to have 115 top grocery stores, Brooklyn 100, and Manhattan 78.\n",
    "\n",
    "- Manhattan was found to have the most combined counts of all three amenities, 1179.\n",
    "\n",
    "### Conclusion \n",
    "The analysis supports a preliminary recommendation that Manhattan be chosen to facilitate the delegation, since it has the most amenities combined, and is also the highest for EV charging stations. Manhattan also ties with Queens for most lounges. The delgation would need to look at the summary counts and other factors, including those recommended below, to make a final decision. \n",
    "\n",
    "### Recommendations for Further Investigation\n",
    "- Check to see the exact locations of EV charging stations to see if another borough is equally or more convenient that Manhattan to access the amenity. \n",
    "\n",
    "- Check the NYC Dept of Building pax limits for lounges, as well as each establishment's policies on large groups to facilitate larger group meet-ups.\n",
    "\n",
    "- Check to see how much of, and how often amenities will be needed to determine alternative arrangements.\n",
    "\n",
    "- Check to see how easy it will be to commute to amenities by different modes of travel. "
   ]
  },
  {
   "cell_type": "code",
   "execution_count": 1,
   "metadata": {},
   "outputs": [],
   "source": [
    "# Dependencies and Setup\n",
    "import pandas as pd\n",
    "import numpy as np   \n",
    "\n",
    "# For visualizations\n",
    "import matplotlib.pyplot as plt \n",
    "import geoviews.tile_sources as gts\n",
    "import geoviews as gv\n",
    "import os \n",
    "\n",
    "import warnings\n",
    "warnings.filterwarnings('ignore')"
   ]
  },
  {
   "cell_type": "markdown",
   "metadata": {},
   "source": [
    "## Task 1-Read the csv files to create and wrangle the Dataframes"
   ]
  },
  {
   "cell_type": "code",
   "execution_count": 2,
   "metadata": {},
   "outputs": [],
   "source": [
    "# Read the csv files and create DataFrames\n",
    "grocery_df = pd.read_csv('Resources/grocery.csv')\n",
    "evcs_df = pd.read_csv('Resources/EVCS.csv')\n",
    "lounge_df = pd.read_csv('Resources/lounge.csv')  "
   ]
  },
  {
   "cell_type": "code",
   "execution_count": 3,
   "metadata": {},
   "outputs": [
    {
     "data": {
      "text/html": [
       "<div>\n",
       "<style scoped>\n",
       "    .dataframe tbody tr th:only-of-type {\n",
       "        vertical-align: middle;\n",
       "    }\n",
       "\n",
       "    .dataframe tbody tr th {\n",
       "        vertical-align: top;\n",
       "    }\n",
       "\n",
       "    .dataframe thead th {\n",
       "        text-align: right;\n",
       "    }\n",
       "</style>\n",
       "<table border=\"1\" class=\"dataframe\">\n",
       "  <thead>\n",
       "    <tr style=\"text-align: right;\">\n",
       "      <th></th>\n",
       "      <th>City</th>\n",
       "      <th>Name</th>\n",
       "      <th>Address</th>\n",
       "      <th>Type</th>\n",
       "    </tr>\n",
       "  </thead>\n",
       "  <tbody>\n",
       "    <tr>\n",
       "      <th>0</th>\n",
       "      <td>Fair Haven</td>\n",
       "      <td>Village of Fairhaven</td>\n",
       "      <td>14523 Cayuga St</td>\n",
       "      <td>EVCS</td>\n",
       "    </tr>\n",
       "    <tr>\n",
       "      <th>1</th>\n",
       "      <td>Hudson</td>\n",
       "      <td>The Wick Hotel - Tesla Destination</td>\n",
       "      <td>41 Cross St</td>\n",
       "      <td>EVCS</td>\n",
       "    </tr>\n",
       "    <tr>\n",
       "      <th>2</th>\n",
       "      <td>Tupper Lake</td>\n",
       "      <td>Faust Motel - Tesla Destination</td>\n",
       "      <td>151 Main St</td>\n",
       "      <td>EVCS</td>\n",
       "    </tr>\n",
       "    <tr>\n",
       "      <th>3</th>\n",
       "      <td>Avon</td>\n",
       "      <td>Avon</td>\n",
       "      <td>74 Genesee Street</td>\n",
       "      <td>EVCS</td>\n",
       "    </tr>\n",
       "    <tr>\n",
       "      <th>4</th>\n",
       "      <td>Saugerties</td>\n",
       "      <td>Holiday Inn Express &amp; Suites</td>\n",
       "      <td>9 Old Route 32</td>\n",
       "      <td>EVCS</td>\n",
       "    </tr>\n",
       "  </tbody>\n",
       "</table>\n",
       "</div>"
      ],
      "text/plain": [
       "          City                                Name            Address  Type\n",
       "0   Fair Haven                Village of Fairhaven    14523 Cayuga St  EVCS\n",
       "1       Hudson  The Wick Hotel - Tesla Destination        41 Cross St  EVCS\n",
       "2  Tupper Lake     Faust Motel - Tesla Destination        151 Main St  EVCS\n",
       "3         Avon                                Avon  74 Genesee Street  EVCS\n",
       "4   Saugerties        Holiday Inn Express & Suites     9 Old Route 32  EVCS"
      ]
     },
     "execution_count": 3,
     "metadata": {},
     "output_type": "execute_result"
    }
   ],
   "source": [
    "# Add a column to the dataframe to indicate the type of amenity\n",
    "evcs_df['Type'] = 'EVCS'\n",
    "\n",
    "# Specify the columns to keep\n",
    "shrunk_evcs_df = evcs_df[['city', 'station_name', 'street_address', 'Type']]\n",
    "\n",
    "# Rename the columns\n",
    "shrunk_evcs_df = shrunk_evcs_df.rename(columns={'city': 'City', 'station_name': 'Name', 'street_address': 'Address'})\n",
    "\n",
    "# Preview the dataframe\n",
    "shrunk_evcs_df.head()"
   ]
  },
  {
   "cell_type": "code",
   "execution_count": 4,
   "metadata": {},
   "outputs": [
    {
     "data": {
      "text/html": [
       "<div>\n",
       "<style scoped>\n",
       "    .dataframe tbody tr th:only-of-type {\n",
       "        vertical-align: middle;\n",
       "    }\n",
       "\n",
       "    .dataframe tbody tr th {\n",
       "        vertical-align: top;\n",
       "    }\n",
       "\n",
       "    .dataframe thead th {\n",
       "        text-align: right;\n",
       "    }\n",
       "</style>\n",
       "<table border=\"1\" class=\"dataframe\">\n",
       "  <thead>\n",
       "    <tr style=\"text-align: right;\">\n",
       "      <th></th>\n",
       "      <th>City</th>\n",
       "      <th>Name</th>\n",
       "      <th>Address</th>\n",
       "      <th>Type</th>\n",
       "    </tr>\n",
       "  </thead>\n",
       "  <tbody>\n",
       "    <tr>\n",
       "      <th>0</th>\n",
       "      <td>Manhattan</td>\n",
       "      <td>The Skylark</td>\n",
       "      <td>200 W 39th St</td>\n",
       "      <td>Lounge</td>\n",
       "    </tr>\n",
       "    <tr>\n",
       "      <th>1</th>\n",
       "      <td>Manhattan</td>\n",
       "      <td>The Living Room</td>\n",
       "      <td>153 West 57th St</td>\n",
       "      <td>Lounge</td>\n",
       "    </tr>\n",
       "    <tr>\n",
       "      <th>2</th>\n",
       "      <td>Manhattan</td>\n",
       "      <td>Raines Law Room</td>\n",
       "      <td>48 W 17th St</td>\n",
       "      <td>Lounge</td>\n",
       "    </tr>\n",
       "    <tr>\n",
       "      <th>3</th>\n",
       "      <td>Manhattan</td>\n",
       "      <td>Valerie</td>\n",
       "      <td>45 W 45th St between 5th &amp; 6th Ave</td>\n",
       "      <td>Lounge</td>\n",
       "    </tr>\n",
       "    <tr>\n",
       "      <th>4</th>\n",
       "      <td>Manhattan</td>\n",
       "      <td>On The Rocks</td>\n",
       "      <td>696 10th Ave</td>\n",
       "      <td>Lounge</td>\n",
       "    </tr>\n",
       "  </tbody>\n",
       "</table>\n",
       "</div>"
      ],
      "text/plain": [
       "        City             Name                             Address    Type\n",
       "0  Manhattan      The Skylark                       200 W 39th St  Lounge\n",
       "1  Manhattan  The Living Room                    153 West 57th St  Lounge\n",
       "2  Manhattan  Raines Law Room                        48 W 17th St  Lounge\n",
       "3  Manhattan          Valerie  45 W 45th St between 5th & 6th Ave  Lounge\n",
       "4  Manhattan     On The Rocks                        696 10th Ave  Lounge"
      ]
     },
     "execution_count": 4,
     "metadata": {},
     "output_type": "execute_result"
    }
   ],
   "source": [
    "# Add a column to the dataframe to indicate the type of amenity\n",
    "lounge_df['Type'] = 'Lounge'\n",
    "\n",
    "# Preview the dataframe\n",
    "lounge_df.head()"
   ]
  },
  {
   "cell_type": "code",
   "execution_count": 5,
   "metadata": {},
   "outputs": [
    {
     "data": {
      "text/html": [
       "<div>\n",
       "<style scoped>\n",
       "    .dataframe tbody tr th:only-of-type {\n",
       "        vertical-align: middle;\n",
       "    }\n",
       "\n",
       "    .dataframe tbody tr th {\n",
       "        vertical-align: top;\n",
       "    }\n",
       "\n",
       "    .dataframe thead th {\n",
       "        text-align: right;\n",
       "    }\n",
       "</style>\n",
       "<table border=\"1\" class=\"dataframe\">\n",
       "  <thead>\n",
       "    <tr style=\"text-align: right;\">\n",
       "      <th></th>\n",
       "      <th>City</th>\n",
       "      <th>Name</th>\n",
       "      <th>Address</th>\n",
       "      <th>Type</th>\n",
       "    </tr>\n",
       "  </thead>\n",
       "  <tbody>\n",
       "    <tr>\n",
       "      <th>0</th>\n",
       "      <td>Manhattan</td>\n",
       "      <td>West Market</td>\n",
       "      <td>693 10th Ave</td>\n",
       "      <td>Grocery</td>\n",
       "    </tr>\n",
       "    <tr>\n",
       "      <th>1</th>\n",
       "      <td>Manhattan</td>\n",
       "      <td>Whole Foods Market</td>\n",
       "      <td>226 E 57th St</td>\n",
       "      <td>Grocery</td>\n",
       "    </tr>\n",
       "    <tr>\n",
       "      <th>2</th>\n",
       "      <td>Manhattan</td>\n",
       "      <td>gastro market</td>\n",
       "      <td>55TH St And Broadway</td>\n",
       "      <td>Grocery</td>\n",
       "    </tr>\n",
       "    <tr>\n",
       "      <th>3</th>\n",
       "      <td>Manhattan</td>\n",
       "      <td>Morton Williams</td>\n",
       "      <td>908 Second Avenue</td>\n",
       "      <td>Grocery</td>\n",
       "    </tr>\n",
       "    <tr>\n",
       "      <th>4</th>\n",
       "      <td>Manhattan</td>\n",
       "      <td>Fairway Market</td>\n",
       "      <td>2131 Broadway</td>\n",
       "      <td>Grocery</td>\n",
       "    </tr>\n",
       "  </tbody>\n",
       "</table>\n",
       "</div>"
      ],
      "text/plain": [
       "        City                Name               Address     Type\n",
       "0  Manhattan         West Market          693 10th Ave  Grocery\n",
       "1  Manhattan  Whole Foods Market         226 E 57th St  Grocery\n",
       "2  Manhattan       gastro market  55TH St And Broadway  Grocery\n",
       "3  Manhattan     Morton Williams     908 Second Avenue  Grocery\n",
       "4  Manhattan      Fairway Market         2131 Broadway  Grocery"
      ]
     },
     "execution_count": 5,
     "metadata": {},
     "output_type": "execute_result"
    }
   ],
   "source": [
    "# Add a column to the dataframe to indicate the type of amenity\n",
    "grocery_df['Type'] = 'Grocery'\n",
    "\n",
    "# Preview the dataframe\n",
    "grocery_df.head()"
   ]
  },
  {
   "cell_type": "code",
   "execution_count": 6,
   "metadata": {},
   "outputs": [
    {
     "name": "stdout",
     "output_type": "stream",
     "text": [
      "<class 'pandas.core.frame.DataFrame'>\n",
      "RangeIndex: 8920 entries, 0 to 8919\n",
      "Data columns (total 4 columns):\n",
      " #   Column   Non-Null Count  Dtype \n",
      "---  ------   --------------  ----- \n",
      " 0   City     8920 non-null   object\n",
      " 1   Name     8920 non-null   object\n",
      " 2   Address  8909 non-null   object\n",
      " 3   Type     8920 non-null   object\n",
      "dtypes: object(4)\n",
      "memory usage: 278.9+ KB\n"
     ]
    },
    {
     "data": {
      "text/html": [
       "<div>\n",
       "<style scoped>\n",
       "    .dataframe tbody tr th:only-of-type {\n",
       "        vertical-align: middle;\n",
       "    }\n",
       "\n",
       "    .dataframe tbody tr th {\n",
       "        vertical-align: top;\n",
       "    }\n",
       "\n",
       "    .dataframe thead th {\n",
       "        text-align: right;\n",
       "    }\n",
       "</style>\n",
       "<table border=\"1\" class=\"dataframe\">\n",
       "  <thead>\n",
       "    <tr style=\"text-align: right;\">\n",
       "      <th></th>\n",
       "      <th>City</th>\n",
       "      <th>Name</th>\n",
       "      <th>Address</th>\n",
       "      <th>Type</th>\n",
       "    </tr>\n",
       "  </thead>\n",
       "  <tbody>\n",
       "    <tr>\n",
       "      <th>0</th>\n",
       "      <td>Manhattan</td>\n",
       "      <td>West Market</td>\n",
       "      <td>693 10th Ave</td>\n",
       "      <td>Grocery</td>\n",
       "    </tr>\n",
       "    <tr>\n",
       "      <th>1</th>\n",
       "      <td>Manhattan</td>\n",
       "      <td>Whole Foods Market</td>\n",
       "      <td>226 E 57th St</td>\n",
       "      <td>Grocery</td>\n",
       "    </tr>\n",
       "    <tr>\n",
       "      <th>2</th>\n",
       "      <td>Manhattan</td>\n",
       "      <td>gastro market</td>\n",
       "      <td>55TH St And Broadway</td>\n",
       "      <td>Grocery</td>\n",
       "    </tr>\n",
       "    <tr>\n",
       "      <th>3</th>\n",
       "      <td>Manhattan</td>\n",
       "      <td>Morton Williams</td>\n",
       "      <td>908 Second Avenue</td>\n",
       "      <td>Grocery</td>\n",
       "    </tr>\n",
       "    <tr>\n",
       "      <th>4</th>\n",
       "      <td>Manhattan</td>\n",
       "      <td>Fairway Market</td>\n",
       "      <td>2131 Broadway</td>\n",
       "      <td>Grocery</td>\n",
       "    </tr>\n",
       "  </tbody>\n",
       "</table>\n",
       "</div>"
      ],
      "text/plain": [
       "        City                Name               Address     Type\n",
       "0  Manhattan         West Market          693 10th Ave  Grocery\n",
       "1  Manhattan  Whole Foods Market         226 E 57th St  Grocery\n",
       "2  Manhattan       gastro market  55TH St And Broadway  Grocery\n",
       "3  Manhattan     Morton Williams     908 Second Avenue  Grocery\n",
       "4  Manhattan      Fairway Market         2131 Broadway  Grocery"
      ]
     },
     "execution_count": 6,
     "metadata": {},
     "output_type": "execute_result"
    }
   ],
   "source": [
    "# Concatenate the dataframes\n",
    "stacked_df = pd.concat([grocery_df, shrunk_evcs_df,lounge_df], ignore_index=True)\n",
    "\n",
    "# Check the shape of the stacked dataframe\n",
    "stacked_df.info()\n",
    "\n",
    "# Preview the stacked dataframe\n",
    "stacked_df.head()"
   ]
  },
  {
   "cell_type": "markdown",
   "metadata": {},
   "source": [
    "## Task 2-Drop duplicates and null values fron the stacked dataframe"
   ]
  },
  {
   "cell_type": "code",
   "execution_count": 7,
   "metadata": {},
   "outputs": [],
   "source": [
    "# Drop rows with NaN values\n",
    "clean_stacked_df= stacked_df.dropna()\n",
    "\n",
    "# Drop duplicate rows\n",
    "clean_stacked_df = clean_stacked_df.drop_duplicates()\n",
    "\n",
    "# Reset index\n",
    "clean_stacked_df =  clean_stacked_df.reset_index(drop=True)"
   ]
  },
  {
   "cell_type": "code",
   "execution_count": 8,
   "metadata": {},
   "outputs": [
    {
     "data": {
      "text/html": [
       "<div>\n",
       "<style scoped>\n",
       "    .dataframe tbody tr th:only-of-type {\n",
       "        vertical-align: middle;\n",
       "    }\n",
       "\n",
       "    .dataframe tbody tr th {\n",
       "        vertical-align: top;\n",
       "    }\n",
       "\n",
       "    .dataframe thead th {\n",
       "        text-align: right;\n",
       "    }\n",
       "</style>\n",
       "<table border=\"1\" class=\"dataframe\">\n",
       "  <thead>\n",
       "    <tr style=\"text-align: right;\">\n",
       "      <th></th>\n",
       "      <th>City</th>\n",
       "      <th>Name</th>\n",
       "      <th>Address</th>\n",
       "      <th>Type</th>\n",
       "    </tr>\n",
       "  </thead>\n",
       "  <tbody>\n",
       "    <tr>\n",
       "      <th>0</th>\n",
       "      <td>Manhattan</td>\n",
       "      <td>West Market</td>\n",
       "      <td>693 10th Ave</td>\n",
       "      <td>Grocery</td>\n",
       "    </tr>\n",
       "    <tr>\n",
       "      <th>1</th>\n",
       "      <td>Manhattan</td>\n",
       "      <td>Whole Foods Market</td>\n",
       "      <td>226 E 57th St</td>\n",
       "      <td>Grocery</td>\n",
       "    </tr>\n",
       "    <tr>\n",
       "      <th>2</th>\n",
       "      <td>Manhattan</td>\n",
       "      <td>gastro market</td>\n",
       "      <td>55TH St And Broadway</td>\n",
       "      <td>Grocery</td>\n",
       "    </tr>\n",
       "    <tr>\n",
       "      <th>3</th>\n",
       "      <td>Manhattan</td>\n",
       "      <td>Morton Williams</td>\n",
       "      <td>908 Second Avenue</td>\n",
       "      <td>Grocery</td>\n",
       "    </tr>\n",
       "    <tr>\n",
       "      <th>4</th>\n",
       "      <td>Manhattan</td>\n",
       "      <td>Fairway Market</td>\n",
       "      <td>2131 Broadway</td>\n",
       "      <td>Grocery</td>\n",
       "    </tr>\n",
       "  </tbody>\n",
       "</table>\n",
       "</div>"
      ],
      "text/plain": [
       "        City                Name               Address     Type\n",
       "0  Manhattan         West Market          693 10th Ave  Grocery\n",
       "1  Manhattan  Whole Foods Market         226 E 57th St  Grocery\n",
       "2  Manhattan       gastro market  55TH St And Broadway  Grocery\n",
       "3  Manhattan     Morton Williams     908 Second Avenue  Grocery\n",
       "4  Manhattan      Fairway Market         2131 Broadway  Grocery"
      ]
     },
     "execution_count": 8,
     "metadata": {},
     "output_type": "execute_result"
    }
   ],
   "source": [
    "# Preview the dataframe\n",
    "clean_stacked_df.head()"
   ]
  },
  {
   "cell_type": "code",
   "execution_count": 9,
   "metadata": {},
   "outputs": [
    {
     "name": "stdout",
     "output_type": "stream",
     "text": [
      "8905\n"
     ]
    }
   ],
   "source": [
    "print(len(clean_stacked_df))"
   ]
  },
  {
   "cell_type": "code",
   "execution_count": 10,
   "metadata": {},
   "outputs": [],
   "source": [
    "# Replace city names to collapse \"Manhattan\", \"New York\", and \"New York City\"\n",
    "collapse = {'Manhattan': 'Manhattan', 'New York': 'Manhattan', 'New York City': 'Manhattan'}\n",
    "clean_stacked_df.loc[:, 'City'] = clean_stacked_df['City'].replace(collapse)"
   ]
  },
  {
   "cell_type": "code",
   "execution_count": 11,
   "metadata": {},
   "outputs": [
    {
     "name": "stdout",
     "output_type": "stream",
     "text": [
      "6043\n"
     ]
    }
   ],
   "source": [
    "# Create a dataframe with only the cities we want to compare\n",
    "specific_cities = ['Manhattan', 'Brooklyn', 'Queens']\n",
    "specific_city_df = clean_stacked_df[clean_stacked_df['City'].isin(specific_cities)]\n",
    "print(len(specific_city_df))"
   ]
  },
  {
   "cell_type": "code",
   "execution_count": 12,
   "metadata": {},
   "outputs": [
    {
     "name": "stdout",
     "output_type": "stream",
     "text": [
      "['Manhattan' 'Queens' 'Brooklyn']\n"
     ]
    }
   ],
   "source": [
    "# Check that only Brooklyn, Manhattan, and Queens are in the data\n",
    "unique_cities = specific_city_df['City'].unique()\n",
    "print(unique_cities)"
   ]
  },
  {
   "cell_type": "markdown",
   "metadata": {},
   "source": [
    "## Task 3-Make a bar graph for total EV charging stations in each borough and export to Viz folder"
   ]
  },
  {
   "cell_type": "code",
   "execution_count": 13,
   "metadata": {},
   "outputs": [
    {
     "data": {
      "text/plain": [
       "City\n",
       "Brooklyn      25\n",
       "Manhattan    102\n",
       "Queens         7\n",
       "dtype: int64"
      ]
     },
     "execution_count": 13,
     "metadata": {},
     "output_type": "execute_result"
    }
   ],
   "source": [
    "# Filter the DataFrame to include only rows with 'EVCS' in the 'Type' column\n",
    "evcs_df = specific_city_df[specific_city_df['Type'] == 'EVCS']\n",
    "\n",
    "# Group by 'City' and get the EV charging stations counts\n",
    "counts_evcs = evcs_df.groupby('City').size()\n",
    "\n",
    "# Print the counts\n",
    "counts_evcs"
   ]
  },
  {
   "cell_type": "code",
   "execution_count": 14,
   "metadata": {},
   "outputs": [
    {
     "data": {
      "image/png": "[encoded data removed]",
      "text/plain": [
       "<Figure size 700x500 with 1 Axes>"
      ]
     },
     "metadata": {},
     "output_type": "display_data"
    }
   ],
   "source": [
    "# Ensure the 'visualizations' folder exists\n",
    "if not os.path.exists('Visualizations'):\n",
    "    os.mkdir('Visualizations')\n",
    "    \n",
    "# Sort the EVCS series in descending order\n",
    "sorted_counts_evcs = counts_evcs.sort_values(ascending=False)\n",
    "\n",
    "# Format bars and labels\n",
    "ax = sorted_counts_evcs.plot(kind='bar', figsize=(7, 5), color='coral')\n",
    "ax.set_ylabel('# of EV Charging Stations')\n",
    "ax.set_title('Number of EV Charging Stations in Each Borough')\n",
    "plt.xticks(rotation=45)\n",
    "plt.tight_layout()\n",
    "\n",
    "# Save the plot to the 'Visualizations' folder\n",
    "plt.savefig('Visualizations/evcs_bar_plot.png')\n",
    "\n",
    "# Display the plot\n",
    "plt.show()"
   ]
  },
  {
   "cell_type": "markdown",
   "metadata": {},
   "source": [
    "## Task 4-Make a bar graph for total lounges in each borough and export to Viz folder"
   ]
  },
  {
   "cell_type": "code",
   "execution_count": 15,
   "metadata": {},
   "outputs": [
    {
     "data": {
      "text/plain": [
       "City\n",
       "Brooklyn     919\n",
       "Manhattan    999\n",
       "Queens       999\n",
       "dtype: int64"
      ]
     },
     "execution_count": 15,
     "metadata": {},
     "output_type": "execute_result"
    }
   ],
   "source": [
    "# Filter the DataFrame to include only rows with 'Lounge' in the 'Type' column\n",
    "lounge_df = specific_city_df[specific_city_df['Type'] == 'Lounge']\n",
    "\n",
    "# Group by 'City' and get the EV charging stations count\n",
    "counts_lounge = lounge_df.groupby('City').size()\n",
    "\n",
    "# Print the counts\n",
    "counts_lounge"
   ]
  },
  {
   "cell_type": "code",
   "execution_count": 16,
   "metadata": {},
   "outputs": [
    {
     "data": {
      "image/png": "[encoded data removed]",
      "text/plain": [
       "<Figure size 700x500 with 1 Axes>"
      ]
     },
     "metadata": {},
     "output_type": "display_data"
    }
   ],
   "source": [
    "# Sort the Series in descending order\n",
    "sorted_counts_lounge = counts_lounge.sort_values(ascending=False)\n",
    "\n",
    "# Format bars and labels\n",
    "ax = sorted_counts_lounge.plot(kind='bar', figsize=(7, 5), color='coral')\n",
    "ax.set_ylabel('# of Lounges')\n",
    "ax.set_title('Number of Lounges in Each Borough')\n",
    "plt.xticks(rotation=45)\n",
    "plt.tight_layout()\n",
    "\n",
    "# Save the plot to the 'Visualizations' folder\n",
    "plt.savefig('Visualizations/lounge_bar_plot.png')\n",
    "\n",
    "# Display the plot\n",
    "plt.show()"
   ]
  },
  {
   "cell_type": "markdown",
   "metadata": {},
   "source": [
    "## Task 5-Make a bar graph for the top 10 grocery stores in each borough and export to Viz folder"
   ]
  },
  {
   "cell_type": "code",
   "execution_count": 17,
   "metadata": {},
   "outputs": [
    {
     "name": "stdout",
     "output_type": "stream",
     "text": [
      "Name\n",
      "Key Food                   62\n",
      "CTown Supermarkets         47\n",
      "Food Bazaar Supermarket    31\n",
      "Whole Foods Market         27\n",
      "Morton Williams            23\n",
      "Trader Joe's               22\n",
      "Foodtown                   21\n",
      "Associated Supermarket     20\n",
      "Ideal Food Basket          20\n",
      "Bravo Supermarkets         19\n",
      "dtype: int64\n"
     ]
    }
   ],
   "source": [
    "# Group the DataFrame by 'Name' and count the occurrences\n",
    "store_counts = specific_city_df.groupby('Name').size()\n",
    "\n",
    "# Sort the store counts in descending order and get the top 13 stores\n",
    "top_10_stores = store_counts.sort_values(ascending=False).head(10)\n",
    "\n",
    "# Print the top 13 stores\n",
    "print(top_10_stores)\n"
   ]
  },
  {
   "cell_type": "code",
   "execution_count": 18,
   "metadata": {},
   "outputs": [
    {
     "data": {
      "text/plain": [
       "City\n",
       "Brooklyn     100\n",
       "Manhattan     78\n",
       "Queens       115\n",
       "dtype: int64"
      ]
     },
     "execution_count": 18,
     "metadata": {},
     "output_type": "execute_result"
    }
   ],
   "source": [
    "# number of popular chain grocers top 10\n",
    "# Specify the cities you want to group by\n",
    "three_boro = ['Brooklyn', 'Manhattan', 'Queens']\n",
    "grocery_by_city_df = specific_city_df[specific_city_df['Type'] == 'Grocery']\n",
    "# Filter the DataFrame to include only the specified cities\n",
    "collapse_city_grocer_df = grocery_df[grocery_df['City'].isin(three_boro)]\n",
    "collapse_city_grocer_df[\"City\"].value_counts()\n",
    "unique_collapse_city_grocer_df = collapse_city_grocer_df[\"Name\"].value_counts()\n",
    "list_grocer_df = pd.DataFrame(unique_collapse_city_grocer_df)\n",
    "list_grocer_df_reset = list_grocer_df.reset_index()\n",
    "top_10_grocer = list_grocer_df_reset.head(10)\n",
    "top_10_grocer_list = top_10_grocer[\"index\"].tolist()\n",
    "#justify top 13 via descending count of chain grocer\n",
    "#specify health food store\n",
    "health_food_filter_df = collapse_city_grocer_df[collapse_city_grocer_df['Name'].isin(top_10_grocer_list)]\n",
    "# Group by 'city' and get the countc\n",
    "counts_food_chain = health_food_filter_df.groupby('City').size()\n",
    "counts_food_chain"
   ]
  },
  {
   "cell_type": "code",
   "execution_count": 19,
   "metadata": {},
   "outputs": [
    {
     "data": {
      "image/png": "[encoded data removed]",
      "text/plain": [
       "<Figure size 700x500 with 1 Axes>"
      ]
     },
     "metadata": {},
     "output_type": "display_data"
    }
   ],
   "source": [
    "# Sort the Series in descending order\n",
    "sorted_counts_grocery = counts_food_chain.sort_values(ascending=False)\n",
    "# Format bars and labels\n",
    "ax = sorted_counts_grocery.plot(kind='bar', figsize=(7, 5), color='coral')\n",
    "ax.set_ylabel('# of Grocers')\n",
    "ax.set_title('Number of Grocers in Each Borough')\n",
    "plt.xticks(rotation=45)\n",
    "plt.tight_layout()\n",
    "# Save the plot to the 'Visualizations' folder\n",
    "plt.savefig('Visualizations/grocery_bar_plot.png')\n",
    "# Display the plot\n",
    "plt.show()"
   ]
  },
  {
   "cell_type": "code",
   "execution_count": 20,
   "metadata": {},
   "outputs": [
    {
     "name": "stdout",
     "output_type": "stream",
     "text": [
      "City\n",
      "Brooklyn     1044\n",
      "Manhattan    1179\n",
      "Queens       1121\n",
      "dtype: int64\n",
      "The borough with the most combined EVCS, lounges and groceries is Manhattan with 1179 counts.\n"
     ]
    }
   ],
   "source": [
    "# Combine the counts for EVCS and lounges\n",
    "combined_counts = sorted_counts_evcs.add(sorted_counts_lounge, fill_value=0)\n",
    "combined_counts2 = combined_counts.add(sorted_counts_grocery, fill_value=0)\n",
    "print (combined_counts2)\n",
    "# Find the borough with the most combined counts\n",
    "most_combined_borough = combined_counts2.idxmax()\n",
    "most_combined_count = combined_counts2.max()\n",
    "#combined_counts2\n",
    "# Print the borough with the most combined counts\n",
    "print(f\"The borough with the most combined EVCS, lounges and groceries is {most_combined_borough} with {most_combined_count} counts.\")"
   ]
  },
  {
   "cell_type": "code",
   "execution_count": 21,
   "metadata": {},
   "outputs": [],
   "source": [
    "#map\n",
    "map_points_df = pd.DataFrame(combined_counts2)\n",
    "map_points_df_reset = map_points_df.reset_index()\n",
    "map_points_df_reset.columns.values[1] = 'Count'\n",
    "map_points_df_reset\n",
    "# Create a dictionary containing coordinates\n",
    "coordinates = {\n",
    "     \"Manhattan\": (40.7831, -73.9712),\n",
    "     \"Brooklyn\": (40.6782,-73.9442),\n",
    "     \"Queens\": (40.7282, -73.7949),\n",
    "}\n",
    "# Add latitude and longitude columns to the DataFrame\n",
    "map_points_df_reset['latitude'] = map_points_df_reset['City'].map(lambda city: coordinates[city][0])\n",
    "map_points_df_reset['longitude'] = map_points_df_reset['City'].map(lambda city: coordinates[city][1])\n",
    "# Normalize the counts to control dot sizes\n",
    "max_count = map_points_df_reset['Count'].max()\n",
    "map_points_df_reset['NormalizedCount'] = map_points_df_reset['Count'] / max_count\n",
    "# Apply a scaling factor to control dot size\n",
    "dot_scaling_factor = 60\n",
    "map_points_df_reset['ScaledCount'] = map_points_df_reset['NormalizedCount'] * dot_scaling_factor\n",
    "# Create a Points element\n",
    "points = gv.Points(map_points_df_reset, kdims=['longitude', 'latitude'], vdims=['ScaledCount'])\n",
    "# Create a Map with Points and a tile source\n",
    "map_plot = gts.OSM() * points.opts(size='ScaledCount', color='ScaledCount', cmap='viridis', frame_height=400, frame_width=800)\n",
    "# Add a color bar to the map\n",
    "color_bar = points.opts(\n",
    "    colorbar=True,\n",
    "    colorbar_opts={'title': 'Count'}\n",
    ")\n",
    "# Display the map with color bar\n",
    "(map_plot * color_bar).opts(legend_position='bottom_left');"
   ]
  },
  {
   "cell_type": "markdown",
   "metadata": {},
   "source": [
    "<img src = \"map.png\" width=\"700\"/> "
   ]
  }
 ],
 "metadata": {
  "kernelspec": {
   "display_name": "yourenvname",
   "language": "python",
   "name": "python3"
  },
  "language_info": {
   "codemirror_mode": {
    "name": "ipython",
    "version": 3
   },
   "file_extension": ".py",
   "mimetype": "text/x-python",
   "name": "python",
   "nbconvert_exporter": "python",
   "pygments_lexer": "ipython3",
   "version": "3.10.12"
  },
  "orig_nbformat": 4
 },
 "nbformat": 4,
 "nbformat_minor": 2
}
